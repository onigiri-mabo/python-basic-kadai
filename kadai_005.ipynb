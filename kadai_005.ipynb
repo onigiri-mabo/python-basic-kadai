{
  "nbformat": 4,
  "nbformat_minor": 0,
  "metadata": {
    "colab": {
      "provenance": []
    },
    "kernelspec": {
      "name": "python3",
      "display_name": "Python 3"
    },
    "language_info": {
      "name": "python"
    }
  },
  "cells": [
    {
      "cell_type": "code",
      "execution_count": 3,
      "metadata": {
        "colab": {
          "base_uri": "https://localhost:8080/"
        },
        "id": "QHfoxpoQkFlm",
        "outputId": "074ddf71-e753-4428-f25a-e7aaf18f0a67"
      },
      "outputs": [
        {
          "output_type": "stream",
          "name": "stdout",
          "text": [
            "75.0cm²\n"
          ]
        }
      ],
      "source": [
        "unit='cm²'\n",
        "upper_length=10\n",
        "under_length=20\n",
        "height=5\n",
        "print(str((upper_length+under_length)*height/2)+unit)"
      ]
    },
    {
      "cell_type": "code",
      "source": [],
      "metadata": {
        "id": "mekXT3-XL-QJ"
      },
      "execution_count": null,
      "outputs": []
    },
    {
      "cell_type": "code",
      "source": [],
      "metadata": {
        "id": "RdUoWKVXJQxg"
      },
      "execution_count": 2,
      "outputs": []
    }
  ]
}